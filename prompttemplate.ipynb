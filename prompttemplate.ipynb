{
 "cells": [
  {
   "cell_type": "code",
   "execution_count": 1,
   "metadata": {},
   "outputs": [
    {
     "name": "stdout",
     "output_type": "stream",
     "text": [
      "\n",
      "    Human: What is the capital of Northrhine Westphalia?\n",
      "    AI: The Capital of Northrhine Westphalia is Düsseldorf.\n",
      "    \n"
     ]
    }
   ],
   "source": [
    "from langchain import PromptTemplate, OpenAI\n",
    "\n",
    "# Define a simple prompt\n",
    "\n",
    "prompt_template = PromptTemplate.from_template(\n",
    "    \"\"\"\n",
    "    Human: What is the capital of {place}?\n",
    "    AI: The Capital of {place} is {capital}.\n",
    "    \"\"\"\n",
    ")\n",
    "\n",
    "prompt = prompt_template.format(place=\"Northrhine Westphalia\", capital=\"Düsseldorf\")\n",
    "\n",
    "print(prompt)"
   ]
  },
  {
   "cell_type": "code",
   "execution_count": 3,
   "metadata": {},
   "outputs": [],
   "source": [
    "from dotenv import load_dotenv\n",
    "load_dotenv()\n",
    "\n",
    "prompt_template = PromptTemplate.from_template(\n",
    "    template=\"Write a {length} story about: {content}\"\n",
    ")\n",
    "\n",
    "llm = OpenAI()"
   ]
  },
  {
   "cell_type": "code",
   "execution_count": 4,
   "metadata": {},
   "outputs": [],
   "source": [
    "prompt = prompt_template.format(\n",
    "    length=\"2-sentence\",\n",
    "    content=\"The hometown of the legendary data scientist, Harpreet Sahota\"\n",
    ")"
   ]
  },
  {
   "cell_type": "code",
   "execution_count": 5,
   "metadata": {},
   "outputs": [],
   "source": [
    "response = llm.predict(text=prompt)"
   ]
  },
  {
   "cell_type": "code",
   "execution_count": 6,
   "metadata": {},
   "outputs": [
    {
     "name": "stdout",
     "output_type": "stream",
     "text": [
      "\n",
      "\n",
      "Harpreet Sahota was born and raised in a small town in the Midwest, and now her legendary data science skills are celebrated in the same place where she grew up.\n"
     ]
    }
   ],
   "source": [
    "print(response)"
   ]
  },
  {
   "cell_type": "code",
   "execution_count": null,
   "metadata": {},
   "outputs": [],
   "source": []
  }
 ],
 "metadata": {
  "kernelspec": {
   "display_name": "langchain-prompttemplate",
   "language": "python",
   "name": "python3"
  },
  "language_info": {
   "codemirror_mode": {
    "name": "ipython",
    "version": 3
   },
   "file_extension": ".py",
   "mimetype": "text/x-python",
   "name": "python",
   "nbconvert_exporter": "python",
   "pygments_lexer": "ipython3",
   "version": "3.12.0"
  }
 },
 "nbformat": 4,
 "nbformat_minor": 2
}
